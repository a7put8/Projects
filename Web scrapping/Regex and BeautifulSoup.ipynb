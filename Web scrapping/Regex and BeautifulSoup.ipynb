{
 "cells": [
  {
   "cell_type": "code",
   "execution_count": 130,
   "id": "abec78f4",
   "metadata": {},
   "outputs": [],
   "source": [
    "from bs4 import BeautifulSoup\n",
    "import requests\n",
    "import re\n",
    "import time"
   ]
  },
  {
   "cell_type": "code",
   "execution_count": 131,
   "id": "4b9920aa",
   "metadata": {},
   "outputs": [],
   "source": [
    "url = 'https://quotes.toscrape.com/'  ##Specify url\n",
    "request = requests.get(url) ## get the web page"
   ]
  },
  {
   "cell_type": "code",
   "execution_count": 132,
   "id": "5c4015e5",
   "metadata": {},
   "outputs": [],
   "source": [
    "soup = BeautifulSoup(request.content, \"html.parser\")  ## create a BeautifulSoup instance"
   ]
  },
  {
   "cell_type": "markdown",
   "id": "33ba7a32",
   "metadata": {},
   "source": [
    "- To get the 4th top tag, I would use the find method to first find where the \"Top Story Tags\" string is housed.\n",
    "- Then I would use the find_all method to get a list containing the top ten tags\n",
    "- The 4th element would be the required tag"
   ]
  },
  {
   "cell_type": "code",
   "execution_count": 133,
   "id": "89e532ea",
   "metadata": {},
   "outputs": [],
   "source": [
    "tags = soup.find(string = \"Top Ten tags\").parent.parent  ## Find the parent of parent class for \"Top Ten tags\" as that houses all the required tags"
   ]
  },
  {
   "cell_type": "code",
   "execution_count": 134,
   "id": "e337fdb3",
   "metadata": {},
   "outputs": [],
   "source": [
    "fourth_top = tags.find_all(\"a\", href = True)[3] ## Get the link for the 4th top tag, [3] due to 0 indexing"
   ]
  },
  {
   "cell_type": "code",
   "execution_count": 135,
   "id": "fd6efe9a",
   "metadata": {},
   "outputs": [
    {
     "name": "stdout",
     "output_type": "stream",
     "text": [
      "/tag/humor/\n"
     ]
    }
   ],
   "source": [
    "link = fourth_top['href']   ## Extract the extension\n",
    "print(link)"
   ]
  },
  {
   "cell_type": "code",
   "execution_count": 136,
   "id": "2d4a7c80",
   "metadata": {},
   "outputs": [],
   "source": [
    "time.sleep(10)  ## 10 sec pause\n",
    "new_request = requests.get(url[:-1]+link) ## Create the next link to nagigate to, url[:-1] as url has a exisiting / "
   ]
  },
  {
   "cell_type": "code",
   "execution_count": 137,
   "id": "6ee403df",
   "metadata": {},
   "outputs": [],
   "source": [
    "soup_1 = BeautifulSoup(new_request.content, \"html.parser\") ## Create a new BeautifulSopu instance for the new page"
   ]
  },
  {
   "cell_type": "markdown",
   "id": "d89ae8f0",
   "metadata": {},
   "source": [
    "- I would use a find_all method to first get all the content in the class quote\n",
    "- Then I would extract the quote and the author name from it"
   ]
  },
  {
   "cell_type": "code",
   "execution_count": 138,
   "id": "5ed32b5c",
   "metadata": {},
   "outputs": [
    {
     "name": "stdout",
     "output_type": "stream",
     "text": [
      "Jane Austen : “The person, be it gentleman or lady, who has not pleasure in a good novel, must be intolerably stupid.”\n",
      "Steve Martin : “A day without sunshine is like, you know, night.”\n",
      "Garrison Keillor : “Anyone who thinks sitting in church can make you a Christian must also think that sitting in a garage can make you a car.”\n",
      "Jim Henson : “Beauty is in the eye of the beholder and it may be necessary from time to time to give a stupid or misinformed beholder a black eye.”\n",
      "Charles M. Schulz : “All you need is love. But a little chocolate now and then doesn't hurt.”\n",
      "Suzanne Collins : “Remember, we're madly in love, so it's all right to kiss me anytime you feel like it.”\n",
      "Charles Bukowski : “Some people never go crazy. What truly horrible lives they must lead.”\n",
      "Terry Pratchett : “The trouble with having an open mind, of course, is that people will insist on coming along and trying to put things in it.”\n",
      "Dr. Seuss : “Think left and think right and think low and think high. Oh, the thinks you can think up if only you try!”\n",
      "George Carlin : “The reason I talk to myself is because I’m the only one whose answers I accept.”\n"
     ]
    }
   ],
   "source": [
    "all_quotes = soup_1.find_all(\"div\", {'class':'quote'}) ## Find the main class housing the quotes\n",
    "\n",
    "quote = {}\n",
    "\n",
    "for i in range(len(all_quotes)):\n",
    "    quote[all_quotes[i].select_one(\"small\", {'class':'author'}).text] = all_quotes[i].select_one(\"span\", {'class':'text'}).text\n",
    "#print(quote)  \n",
    "\n",
    "## print author and quote\n",
    "for key in quote.keys():\n",
    "    print(key, \":\", quote[key])"
   ]
  },
  {
   "cell_type": "markdown",
   "id": "1b0d02d2",
   "metadata": {},
   "source": [
    "#### Alternate way using Regex"
   ]
  },
  {
   "cell_type": "code",
   "execution_count": 139,
   "id": "ef698ce5",
   "metadata": {},
   "outputs": [
    {
     "name": "stdout",
     "output_type": "stream",
     "text": [
      "Jane Austen : “The person, be it gentleman or lady, who has not pleasure in a good novel, must be intolerably stupid.”\n",
      "Steve Martin : “A day without sunshine is like, you know, night.”\n",
      "Garrison Keillor : “Anyone who thinks sitting in church can make you a Christian must also think that sitting in a garage can make you a car.”\n",
      "Jim Henson : “Beauty is in the eye of the beholder and it may be necessary from time to time to give a stupid or misinformed beholder a black eye.”\n",
      "Charles M. Schulz : “All you need is love. But a little chocolate now and then doesn't hurt.”\n",
      "Suzanne Collins : “Remember, we're madly in love, so it's all right to kiss me anytime you feel like it.”\n",
      "Charles Bukowski : “Some people never go crazy. What truly horrible lives they must lead.”\n",
      "Terry Pratchett : “The trouble with having an open mind, of course, is that people will insist on coming along and trying to put things in it.”\n",
      "Dr. Seuss : “Think left and think right and think low and think high. Oh, the thinks you can think up if only you try!”\n",
      "George Carlin : “The reason I talk to myself is because I’m the only one whose answers I accept.”\n"
     ]
    }
   ],
   "source": [
    "pattern_author = 'author\">([a-zA-Z ,\\.]+)<'\n",
    "pattern_text = r'text\">“(.*?)”'\n",
    "\n",
    "for i in range(len(all_quotes)):\n",
    "    print(f'{re.findall(pattern_author, str(all_quotes[i]))[0]} : “{re.findall(pattern_text, str(all_quotes[i]))[0]}”') "
   ]
  },
  {
   "cell_type": "markdown",
   "id": "d6f418e6",
   "metadata": {},
   "source": [
    "- I will use the select_one method to get the class which says \"next\"\n",
    "- Using this, I can get the link to navigate to the next page"
   ]
  },
  {
   "cell_type": "code",
   "execution_count": 140,
   "id": "87d5ea6b",
   "metadata": {},
   "outputs": [],
   "source": [
    "next_1 = soup_1.select_one(\"li\", {'class':'next'}) ## Find the next page extension\n",
    "next_page = next_1.find_all('a')[0]['href']"
   ]
  },
  {
   "cell_type": "code",
   "execution_count": 141,
   "id": "8b23b5b5",
   "metadata": {},
   "outputs": [],
   "source": [
    "time.sleep(10)\n",
    "new_request_1 = requests.get(url[:-1] + next_page) ## Create a new request to get html"
   ]
  },
  {
   "cell_type": "code",
   "execution_count": 142,
   "id": "93efb54d",
   "metadata": {},
   "outputs": [],
   "source": [
    "soup_2 = BeautifulSoup(new_request_1.content, \"html.parser\") ## create a new BS instance"
   ]
  },
  {
   "cell_type": "code",
   "execution_count": 143,
   "id": "244283b0",
   "metadata": {},
   "outputs": [
    {
     "name": "stdout",
     "output_type": "stream",
     "text": [
      "W.C. Fields : “I am free of all prejudice. I hate everyone equally. ”\n",
      "Jane Austen : “A lady's imagination is very rapid; it jumps from admiration to love, from love to matrimony in a moment.”\n"
     ]
    }
   ],
   "source": [
    "all_quotes = soup_2.find_all(\"div\", {'class':'quote'})\n",
    "\n",
    "quote = {}\n",
    "for i in range(len(all_quotes)):\n",
    "    quote[all_quotes[i].select_one(\"small\", {'class':'author'}).text] = all_quotes[i].select_one(\"span\", {'class':'text'}).text\n",
    "\n",
    "\n",
    "## print author and quote\n",
    "for key in quote.keys():\n",
    "    print(key, \":\", quote[key])"
   ]
  },
  {
   "cell_type": "markdown",
   "id": "3360a90f",
   "metadata": {},
   "source": [
    "#### Alternatively using Regex"
   ]
  },
  {
   "cell_type": "code",
   "execution_count": 144,
   "id": "30f0dc76",
   "metadata": {},
   "outputs": [
    {
     "name": "stdout",
     "output_type": "stream",
     "text": [
      "W.C. Fields : “I am free of all prejudice. I hate everyone equally. ”\n",
      "Jane Austen : “A lady's imagination is very rapid; it jumps from admiration to love, from love to matrimony in a moment.”\n"
     ]
    }
   ],
   "source": [
    "pattern_author = 'author\">([a-zA-Z ,\\.]+)<'\n",
    "pattern_text = r'text\">“(.*?)”'\n",
    "\n",
    "for i in range(len(all_quotes)):\n",
    "    print(f'{re.findall(pattern_author, str(all_quotes[i]))[0]} : “{re.findall(pattern_text, str(all_quotes[i]))[0]}”') "
   ]
  }
 ],
 "metadata": {
  "kernelspec": {
   "display_name": "Python 3 (ipykernel)",
   "language": "python",
   "name": "python3"
  },
  "language_info": {
   "codemirror_mode": {
    "name": "ipython",
    "version": 3
   },
   "file_extension": ".py",
   "mimetype": "text/x-python",
   "name": "python",
   "nbconvert_exporter": "python",
   "pygments_lexer": "ipython3",
   "version": "3.11.5"
  }
 },
 "nbformat": 4,
 "nbformat_minor": 5
}
