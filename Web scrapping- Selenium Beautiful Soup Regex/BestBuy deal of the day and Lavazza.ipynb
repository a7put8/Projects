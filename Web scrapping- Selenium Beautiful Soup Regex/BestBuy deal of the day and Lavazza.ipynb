{
 "cells": [
  {
   "cell_type": "code",
   "execution_count": 54,
   "id": "bceefa4b",
   "metadata": {},
   "outputs": [],
   "source": [
    "from selenium import webdriver\n",
    "from selenium.webdriver.chrome.service import service\n",
    "from selenium.webdriver.common.by import By\n",
    "from selenium.webdriver.common.keys import Keys\n",
    "import time\n",
    "from bs4 import BeautifulSoup\n",
    "import re\n",
    "import os"
   ]
  },
  {
   "cell_type": "markdown",
   "id": "b8b380e8",
   "metadata": {},
   "source": [
    "### 1. Selenium set up"
   ]
  },
  {
   "cell_type": "code",
   "execution_count": 55,
   "id": "cdb5e4f9",
   "metadata": {},
   "outputs": [],
   "source": [
    "driver = webdriver.Chrome()  ## Open chrome session\n",
    "\n",
    "time.sleep(5)\n",
    "\n",
    "driver.get('https://www.google.com') ## go to url\n",
    "\n",
    "input_1 = driver.find_element(By.CSS_SELECTOR, 'textarea[title = \"Search\"]')  ## Get search box element\n",
    "input_1.send_keys('askew\\n')\n",
    "\n",
    "time.sleep(20)\n",
    "\n",
    "#input_2 = driver.find_element(By.CSS_SELECTOR, 'textarea[aria-label = \"Search\"]') ## find the search box element again\n",
    "\n",
    "## alternatively\n",
    "\n",
    "input_2 = driver.find_element(By.CSS_SELECTOR, 'textarea[value = \"askew\"]') ## find the search box element again\n",
    "\n",
    "input_2.clear()  ## Clear search box\n",
    "\n",
    "time.sleep(5)\n",
    "\n",
    "input_2.send_keys('google in 1998\\n') ## Implement new search\n",
    "\n",
    "time.sleep(20)\n",
    "\n",
    "driver.quit()  ## Quit session"
   ]
  },
  {
   "cell_type": "markdown",
   "id": "53a542e3",
   "metadata": {},
   "source": [
    "### 2. BestBuy deal of the day\n",
    "\n",
    "Please note, the first featured item from the deal of the day is used to access its reviews"
   ]
  },
  {
   "cell_type": "code",
   "execution_count": 56,
   "id": "8855241e",
   "metadata": {},
   "outputs": [
    {
     "name": "stdout",
     "output_type": "stream",
     "text": [
      "Time left on Deal of the Day: 05hours:20minutes:54seconds\n"
     ]
    }
   ],
   "source": [
    "url = 'https://www.bestbuy.com/'\n",
    "\n",
    "driver = webdriver.Chrome()  ## Open chrome session\n",
    "\n",
    "time.sleep(5)\n",
    "\n",
    "driver.get(url) ## go to url\n",
    "\n",
    "deal_of_day = driver.find_element(By.XPATH, '//a[text() = \"Deal of the Day\"]') ## find Deal of the Day\n",
    "\n",
    "deal_of_day.click() ## Click on Deal of the Day\n",
    "\n",
    "time.sleep(3)\n",
    "\n",
    "#time_left = driver.find_element(By.CSS_SELECTOR, 'ul[id = \"countdown\"]')\n",
    "soup = BeautifulSoup(driver.page_source, 'html.parser')\n",
    "\n",
    "print('Time left on Deal of the Day:', soup.select_one(\"#countdown\").text.strip()) ## Print time remaining on the deal\n",
    "\n",
    "time.sleep(5)\n",
    "\n",
    "deal_button = driver.find_element(By.CLASS_NAME, \"wf-offer-link\") ## find Deal of the Day button\n",
    "\n",
    "deal_button.click()\n",
    "\n",
    "time.sleep(5)\n",
    "\n",
    "reviews = driver.find_element(By.CLASS_NAME, \"c-reviews \")  ## click on product reviews\n",
    "\n",
    "reviews.click()\n",
    "\n",
    "page = BeautifulSoup(driver.page_source, 'html.parser') ## Create BeautifulSoup instance of the page\n",
    "\n",
    "time.sleep(10)\n",
    "\n",
    "driver.quit() \n",
    "\n",
    "output_dir = 'bestbuy_deal_of_the_day' ## Save to new directory\n",
    "\n",
    "os.makedirs(output_dir, exist_ok=True)\n",
    "\n",
    "filename = os.path.join(output_dir, f'bestbuy_deal_of_the_day.htm') \n",
    "\n",
    "with open(filename, 'w', encoding='utf-8') as file:\n",
    "    file.write(page.prettify())\n"
   ]
  },
  {
   "cell_type": "markdown",
   "id": "5e89a08c",
   "metadata": {},
   "source": [
    "### 3. Lavazza coffee"
   ]
  },
  {
   "cell_type": "code",
   "execution_count": 57,
   "id": "1d796fd8",
   "metadata": {},
   "outputs": [
    {
     "name": "stdout",
     "output_type": "stream",
     "text": [
      "Original price of the \"Classy Plus Bundle\" : $300.75\n",
      "New price of the \"Classy Plus Bundle\" : $218.99\n"
     ]
    }
   ],
   "source": [
    "url = 'https://www.lavazzausa.com/en'\n",
    "\n",
    "driver = webdriver.Chrome()  ## Open chrome session\n",
    "\n",
    "driver.get(url) ## go to url\n",
    "\n",
    "time.sleep(5)\n",
    "    \n",
    "reject_cookies = driver.find_elements(By.XPATH, '//div[text() = \"        REJECT ALL     \"]') ## Reject cookies\n",
    "\n",
    "#reject_cookies.click()    \n",
    "if len(reject_cookies) != 0:\n",
    "    reject_cookies[0].click()\n",
    "    time.sleep(5)\n",
    "\n",
    "time.sleep(5)\n",
    "\n",
    "products = driver.find_element(By.XPATH, '//a[text() = \"PRODUCTS\"]') ## Find products\n",
    "    \n",
    "products.click() ## Click on products\n",
    "    \n",
    "time.sleep(5)\n",
    "    \n",
    "capsule_coffee_machines = driver.find_element(By.XPATH, '//a[text() = \"Capsule coffee machines\"]') ## Find casule coffee machines\n",
    "    \n",
    "capsule_coffee_machines.click()\n",
    "    \n",
    "time.sleep(5)\n",
    "\n",
    "page = BeautifulSoup(driver.page_source, 'html.parser') ## Create BeautifulSoup instance of the page\n",
    "\n",
    "output_dir = 'Lavazza' ## Save to new directory\n",
    "\n",
    "os.makedirs(output_dir, exist_ok=True)\n",
    "\n",
    "filename = os.path.join(output_dir, f'lavazza.htm') \n",
    "\n",
    "with open(filename, 'w', encoding='utf-8') as file:\n",
    "    file.write(page.prettify())  ## Write to file\n",
    "\n",
    "driver.quit()\n",
    "\n",
    "## Access new directory\n",
    "directory_path = 'Lavazza'\n",
    "\n",
    "for filename in os.listdir(directory_path):\n",
    "    if filename.endswith('.htm'): ## Check for .htm files\n",
    "        file_path = os.path.join(directory_path, filename)\n",
    "        \n",
    "        with open(file_path, 'r', encoding='utf-8') as file:\n",
    "            page = file.read()\n",
    "            soup = BeautifulSoup(page, 'html.parser') ## Create BeautifulSoup instance\n",
    "            old_price = soup.find('h2', string = re.compile(\"Classy Plus Bundle\")).find_next('span').text.strip() ## Old price for Classy Plus Bundle\n",
    "            new_price = soup.find('h2', string = re.compile(\"Classy Plus Bundle\")).find_next('span').find_next('span').text.strip()  ## New price for Classy Plus Bundle\n",
    "            print(f'Original price of the \"Classy Plus Bundle\" : {old_price}')\n",
    "            print(f'New price of the \"Classy Plus Bundle\" : {new_price}')"
   ]
  }
 ],
 "metadata": {
  "kernelspec": {
   "display_name": "Python 3 (ipykernel)",
   "language": "python",
   "name": "python3"
  },
  "language_info": {
   "codemirror_mode": {
    "name": "ipython",
    "version": 3
   },
   "file_extension": ".py",
   "mimetype": "text/x-python",
   "name": "python",
   "nbconvert_exporter": "python",
   "pygments_lexer": "ipython3",
   "version": "3.11.5"
  }
 },
 "nbformat": 4,
 "nbformat_minor": 5
}
